{
 "cells": [
  {
   "cell_type": "markdown",
   "id": "51d89577",
   "metadata": {},
   "source": [
    "# Atualização do Repositório GitHub via Notebook\n",
    "\n",
    "Este notebook permite executar comandos de atualização do repositório GitHub diretamente do ambiente Jupyter/Colab. Siga as etapas para garantir que todas as melhorias do minicurso sejam salvas e publicadas no GitHub."
   ]
  },
  {
   "cell_type": "code",
   "execution_count": null,
   "id": "6c9316d3",
   "metadata": {},
   "outputs": [],
   "source": [
    "# Importar bibliotecas necessárias\n",
    "import os\n",
    "from IPython.display import display, Markdown"
   ]
  },
  {
   "cell_type": "markdown",
   "id": "58ca539b",
   "metadata": {},
   "source": [
    "## Executar comandos do sistema para atualizar o repositório GitHub\n",
    "\n",
    "Utilize as células abaixo para executar comandos git diretamente do notebook. Certifique-se de que o git está instalado e configurado no seu ambiente."
   ]
  },
  {
   "cell_type": "code",
   "execution_count": null,
   "id": "9667bb4d",
   "metadata": {},
   "outputs": [],
   "source": [
    "# Verificar status do repositório\n",
    "os.system('git status')"
   ]
  },
  {
   "cell_type": "code",
   "execution_count": null,
   "id": "d69c5ee0",
   "metadata": {},
   "outputs": [],
   "source": [
    "# Adicionar arquivos ao controle de versão\n",
    "os.system('git add .')"
   ]
  },
  {
   "cell_type": "code",
   "execution_count": null,
   "id": "a58fe957",
   "metadata": {},
   "outputs": [],
   "source": [
    "# Realizar commit das alterações\n",
    "mensagem = \"Melhorias no minicurso: desafios, testes, docs e visualizações\"\n",
    "os.system(f'git commit -m \"{mensagem}\"')"
   ]
  },
  {
   "cell_type": "code",
   "execution_count": null,
   "id": "c9879506",
   "metadata": {},
   "outputs": [],
   "source": [
    "# Enviar alterações para o repositório remoto\n",
    "os.system('git push')"
   ]
  }
 ],
 "metadata": {
  "language_info": {
   "name": "python"
  }
 },
 "nbformat": 4,
 "nbformat_minor": 5
}
