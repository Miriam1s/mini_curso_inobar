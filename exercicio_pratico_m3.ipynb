{
 "cells": [
  {
   "cell_type": "markdown",
   "metadata": {},
   "source": [
    "# Módulo 3: Visualização de Dados com Matplotlib e Seaborn 📊\n",
    "\n",
    "Bem-vindo(a) ao Módulo 3! Depois de calcularmos métricas financeiras importantes, chegou a hora de **visualizar** esses resultados. Um gráfico bem-feito comunica uma ideia muito mais rápido do que uma tabela de números.\n",
    "\n",
    "Hoje, usaremos as bibliotecas `Matplotlib` e `Seaborn` para criar gráficos profissionais e extrair insights ainda mais profundos dos dados da \"Sabor Artesanal Lanchonete\"."
   ]
  },
  {
   "cell_type": "markdown",
   "metadata": {},
   "source": [
    "### Passo 1: Preparando o Ambiente\n",
    "\n",
    "Como sempre, começamos importando as bibliotecas e carregando nossos dados. Note que agora importamos também `matplotlib.pyplot` e `seaborn`."
   ]
  },
  {
   "cell_type": "code",
   "execution_count": null,
   "metadata": {},
   "outputs": [],
   "source": [
    "import pandas as pd\n",
    "import matplotlib.pyplot as plt\n",
    "import seaborn as sns\n",
    "\n",
    "# Configuração para melhorar a aparência dos gráficos do Seaborn\n",
    "sns.set_theme(style=\"whitegrid\")\n",
    "\n",
    "# Carregando os dados\n",
    "base_url = 'https://raw.githubusercontent.com/Miriam1s/mini_curso_inobar/main/dados/'\n",
    "df_vendas = pd.read_csv(base_url + 'vendas.csv')\n",
    "df_produtos = pd.read_csv(base_url + 'produtos.csv')\n",
    "df_avaliacoes = pd.read_csv(base_url + 'avaliacoes.csv')\n",
    "\n",
    "# Recriando nosso DataFrame completo de vendas\n",
    "df_vendas_completo = pd.merge(df_vendas, df_produtos, on='ID_Produto')\n",
    "df_vendas_completo['Receita'] = df_vendas_completo['Preco_Venda_Unitario'] * df_vendas_completo['Quantidade']"
   ]
  },
  {
   "cell_type": "markdown",
   "metadata": {},
   "source": [
    "### Gráfico 1: Qual produto gera mais receita?\n",
    "\n",
    "Vamos criar um gráfico de barras para comparar a receita total de cada produto."
   ]
  },
  {
   "cell_type": "code",
   "execution_count": null,
   "metadata": {},
   "outputs": [],
   "source": [
    "# Agrupando os dados\n",
    "receita_por_produto = df_vendas_completo.groupby('Nome_Produto')['Receita'].sum().sort_values(ascending=False)\n",
    "\n",
    "# Criando a figura e os eixos para o gráfico\n",
    "plt.figure(figsize=(12, 7))\n",
    "\n",
    "# Criando o gráfico de barras\n",
    "sns.barplot(x=receita_por_produto.values, y=receita_por_produto.index, palette='viridis')\n",
    "\n",
    "# Adicionando títulos e rótulos\n",
    "plt.title('Receita Total por Produto em Outubro', fontsize=16)\n",
    "plt.xlabel('Receita Total (R$)', fontsize=12)\n",
    "plt.ylabel('Produto', fontsize=12)\n",
    "\n",
    "# Exibindo o gráfico\n",
    "plt.show()"
   ]
  },
  {
   "cell_type": "markdown",
   "metadata": {},
   "source": [
    "### Gráfico 2: Qual o dia da semana mais movimentado?\n",
    "\n",
    "Um gráfico de linhas ou barras pode nos mostrar claramente a performance de vendas ao longo da semana."
   ]
  },
  {
   "cell_type": "code",
   "execution_count": null,
   "metadata": {},
   "outputs": [],
   "source": [
    "# Preparando os dados de dia da semana (código do Módulo 2)\n",
    "df_vendas_completo['Data'] = pd.to_datetime(df_vendas_completo['Data'])\n",
    "df_vendas_completo['Dia_Semana'] = df_vendas_completo['Data'].dt.day_name(locale='pt_BR.utf8')\n",
    "dias_ordem = ['segunda-feira', 'terça-feira', 'quarta-feira', 'quinta-feira', 'sexta-feira', 'sábado', 'domingo']\n",
    "receita_por_dia = df_vendas_completo.groupby('Dia_Semana')['Receita'].sum().reindex(dias_ordem).fillna(0)\n",
    "\n",
    "# Criando o gráfico\n",
    "plt.figure(figsize=(12, 6))\n",
    "sns.lineplot(x=receita_por_dia.index, y=receita_por_dia.values, marker='o', color='royalblue')\n",
    "\n",
    "# Adicionando títulos e rótulos\n",
    "plt.title('Faturamento por Dia da Semana', fontsize=16)\n",
    "plt.xlabel('Dia da Semana', fontsize=12)\n",
    "plt.ylabel('Receita Total (R$)', fontsize=12)\n",
    "plt.xticks(rotation=45)\n",
    "\n",
    "plt.show()"
   ]
  },
  {
   "cell_type": "markdown",
   "metadata": {},
   "source": [
    "### Gráfico 3: Qual a forma de pagamento preferida?\n",
    "\n",
    "Um gráfico de pizza é perfeito para mostrar a proporção de cada forma de pagamento no total."
   ]
  },
  {
   "cell_type": "code",
   "execution_count": null,
   "metadata": {},
   "outputs": [],
   "source": [
    "# Contando a frequência de cada forma de pagamento\n",
    "frequencia_pagamento = df_vendas_completo['Forma_Pagamento'].value_counts()\n",
    "\n",
    "# Criando o gráfico de pizza\n",
    "plt.figure(figsize=(10, 8))\n",
    "plt.pie(frequencia_pagamento, labels=frequencia_pagamento.index, autopct='%1.1f%%', startangle=140, colors=sns.color_palette('pastel'))\n",
    "\n",
    "# Adicionando título\n",
    "plt.title('Distribuição das Formas de Pagamento', fontsize=16)\n",
    "plt.ylabel('') # Remove o rótulo do eixo y\n",
    "\n",
    "plt.show()"
   ]
  },
  {
   "cell_type": "markdown",
   "metadata": {},
   "source": [
    "### Gráfico 4: Qual a satisfação dos clientes com nossos produtos?\n",
    "\n",
    "Vamos visualizar a nota média de cada produto para entender a percepção de qualidade dos clientes."
   ]
  },
  {
   "cell_type": "code",
   "execution_count": null,
   "metadata": {},
   "outputs": [],
   "source": [
    "# Juntando avaliações e produtos\n",
    "df_avaliacoes_completo = pd.merge(df_avaliacoes, df_produtos, on='ID_Produto')\n",
    "media_avaliacoes = df_avaliacoes_completo.groupby('Nome_Produto')['Nota'].mean().sort_values(ascending=True)\n",
    "\n",
    "# Criando o gráfico de barras horizontais\n",
    "plt.figure(figsize=(12, 7))\n",
    "sns.barplot(x=media_avaliacoes.values, y=media_avaliacoes.index, palette='coolwarm')\n",
    "\n",
    "# Adicionando títulos e rótulos\n",
    "plt.title('Média de Avaliação por Produto', fontsize=16)\n",
    "plt.xlabel('Nota Média (de 1 a 5)', fontsize=12)\n",
    "plt.ylabel('Produto', fontsize=12)\n",
    "plt.xlim(0, 5) # Define o limite do eixo x para ser de 0 a 5\n",
    "\n",
    "plt.show()"
   ]
  }
 ],
 "metadata": {
  "kernelspec": {
   "display_name": "Python 3",
   "language": "python",
   "name": "python3"
  },
  "language_info": {
   "name": "python"
  }
 },
 "nbformat": 4,
 "nbformat_minor": 4
}