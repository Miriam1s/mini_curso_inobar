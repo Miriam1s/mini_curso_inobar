{
 "cells": [
  {
   "cell_type": "markdown",
   "metadata": {},
   "source": [
    "# Módulo 3: Gerando Insights com Análise e Visualização 📊\n",
    "\n",
    "## Cenário\n",
    "\n",
    "No Módulo 2, fizemos o trabalho pesado de limpar e organizar nossos dados de vendas. Agora, com um conjunto de dados limpo e confiável, podemos começar a parte mais divertida: **responder perguntas de negócio**.\n",
    "\n",
    "O gerente da lanchonete quer saber:\n",
    "1.  Qual produto gera mais receita?\n",
    "2.  Em qual dia da semana vendemos mais?\n",
    "\n",
    "Nossa missão é usar o poder do Pandas e das bibliotecas de visualização para transformar nossos dados em respostas claras e visuais."
   ]
  },
  {
   "cell_type": "markdown",
   "metadata": {},
   "source": [
    "### Passo 0: Configuração do Ambiente\n",
    "\n",
    "Além do `pandas`, agora vamos importar duas novas bibliotecas essenciais:\n",
    "- **`matplotlib.pyplot` (apelido `plt`):** A biblioteca fundamental para criar gráficos em Python. Ela nos dá controle total sobre a aparência das nossas visualizações.\n",
    "- **`seaborn` (apelido `sns`):** Construída sobre o Matplotlib, ela nos permite criar gráficos estatísticos mais bonitos e complexos com menos código.\n",
    "\n",
    "Vamos também definir um \"tema\" para o Seaborn, para que nossos gráficos já comecem com um visual mais profissional."
   ]
  },
  {
   "cell_type": "code",
   "execution_count": null,
   "metadata": {},
   "outputs": [],
   "source": [
    "import pandas as pd\n",
    "import matplotlib.pyplot as plt\n",
    "import seaborn as sns\n",
    "\n",
    "# Define o estilo visual dos gráficos\n",
    "sns.set_theme(style=\"whitegrid\")"
   ]
  },
  {
   "cell_type": "markdown",
   "metadata": {},
   "source": [
    "### Passo 1: Preparando os Dados (Recapitulando o Módulo 2)\n",
    "\n",
    "Para garantir que este notebook funcione de forma independente, vamos executar rapidamente todos os passos de limpeza que aprendemos no Módulo 2. Isso garante que estamos partindo de uma base de dados limpa e pronta para a análise."
   ]
  },
  {
   "cell_type": "code",
   "execution_count": null,
   "metadata": {},
   "outputs": [],
   "source": [
    "# 1. Carregar os dados\n",
    "url = 'https://raw.githubusercontent.com/Miriam1s/mini_curso_inobar/main/vendas_lanchonete.csv'\n",
    "df = pd.read_csv(url)\n",
    "\n",
    "# 2. Limpar e transformar os dados\n",
    "df['Preco'] = df['Preco'].str.replace(',', '.').astype(float)\n",
    "df['ID_Cliente'].fillna(0, inplace=True)\n",
    "df['ID_Cliente'] = df['ID_Cliente'].astype(int)\n",
    "df['Data'] = pd.to_datetime(df['Data'])\n",
    "\n",
    "# 3. Criar a coluna 'Total_Venda'\n",
    "df['Total_Venda'] = df['Preco'] * df['Quantidade']\n",
    "\n",
    "# 4. Verificar o resultado\n",
    "print(\"Dados limpos e prontos para análise:\")\n",
    "df.info()\n",
    "print(\"\\nPrimeiras linhas do DataFrame final:\")\n",
    "df.head()"
   ]
  },
  {
   "cell_type": "markdown",
   "metadata": {},
   "source": [
    "### Passo 2: O Poder do Agrupamento com `.groupby()`\n",
    "\n",
    "Para responder nossas perguntas, precisamos agregar nossos dados. Por exemplo, para saber o total de vendas por produto, precisamos somar todas as vendas de \"Coxinha\", todas as de \"Pastel\", e assim por diante.\n",
    "\n",
    "É aqui que entra o método `.groupby()`, uma das ferramentas mais poderosas do Pandas.\n",
    "\n",
    "> **Analogia:** Pense no `.groupby()` como separar uma pilha de roupas para lavar. Você tem uma pilha de roupas misturadas (seu DataFrame). `df.groupby('Produto')` é o ato de criar montes separados: um para coxinhas, um para pastéis, etc. Depois de separar, você pode aplicar uma operação a cada monte, como somar (`.sum()`), contar (`.count()`) ou calcular a média (`.mean()`)."
   ]
  },
  {
   "cell_type": "markdown",
   "metadata": {},
   "source": [
    "#### Pergunta 1: Qual produto gera mais receita?\n",
    "\n",
    "**Lógica:**\n",
    "1.  **Agrupar** os dados por `Produto`.\n",
    "2.  Selecionar a coluna que queremos agregar: `Total_Venda`.\n",
    "3.  Aplicar a operação de **soma** (`.sum()`).\n",
    "4.  Ordenar os resultados para ver os melhores primeiro (`.sort_values()`)."
   ]
  },
  {
   "cell_type": "code",
   "execution_count": null,
   "metadata": {},
   "outputs": [],
   "source": [
    "faturamento_por_produto = df.groupby('Produto')['Total_Venda'].sum().sort_values(ascending=False)\n",
    "\n",
    "print(\"Faturamento total por produto:\")\n",
    "print(faturamento_por_produto)"
   ]
  },
  {
   "cell_type": "markdown",
   "metadata": {},
   "source": [
    "#### Visualizando a Resposta\n",
    "\n",
    "Uma tabela de números é boa, mas um gráfico é muito mais eficaz para comunicar esse resultado em uma apresentação.\n",
    "\n",
    "Como estamos comparando categorias (produtos), um **gráfico de barras** é a escolha ideal."
   ]
  },
  {
   "cell_type": "code",
   "execution_count": null,
   "metadata": {},
   "outputs": [],
   "source": [
    "# Define o tamanho da figura (largura, altura)\n",
    "plt.figure(figsize=(10, 6))\n",
    "\n",
    "# Cria o gráfico de barras\n",
    "sns.barplot(x=faturamento_por_produto.index, y=faturamento_por_produto.values, palette='viridis')\n",
    "\n",
    "# Adiciona Título e Rótulos\n",
    "plt.title('Faturamento Total por Produto', fontsize=16)\n",
    "plt.xlabel('Produto', fontsize=12)\n",
    "plt.ylabel('Faturamento Total (R$)', fontsize=12)\n",
    "\n",
    "# Rotaciona os rótulos do eixo x para melhor leitura, se necessário\n",
    "plt.xticks(rotation=45)\n",
    "\n",
    "# Mostra o gráfico\n",
    "plt.show()"
   ]
  },
  {
   "cell_type": "markdown",
   "metadata": {},
   "source": [
    "> 💡 **Dica de Storytelling com Dados:**\n",
    "> * **Sempre dê um título claro ao seu gráfico.** A audiência deve entender o que está vendo sem precisar de explicações.\n",
    "> * **Rotule seus eixos.** O que significa o eixo X? E o Y? Inclua a unidade de medida (R$, %, etc.).\n",
    "> * **Ordene suas barras.** Barras ordenadas (do maior para o menor, por exemplo) são muito mais fáceis de ler do que barras desordenadas.\n",
    "\n",
    "**Insight:** A Coxinha é claramente nosso carro-chefe em faturamento!"
   ]
  },
  {
   "cell_type": "markdown",
   "metadata": {},
   "source": [
    "#### Pergunta 2: Em qual dia da semana vendemos mais?\n",
    "\n",
    "**Lógica:**\n",
    "1.  Primeiro, precisamos criar uma coluna com o dia da semana. O Pandas torna isso fácil com o acessor `.dt` em colunas de data.\n",
    "2.  Depois, agrupamos por essa nova coluna (`Dia_Semana`) e somamos o `Total_Venda`.\n",
    "3.  **Pulo do Gato:** Os dias da semana virão em ordem alfabética. Precisamos reordená-los para a ordem correta (Segunda, Terça, etc.) para que o gráfico faça sentido."
   ]
  },
  {
   "cell_type": "code",
   "execution_count": null,
   "metadata": {},
   "outputs": [],
   "source": [
    "# 1. Criar a coluna com o nome do dia da semana\n",
    "# Usamos .dt.day_name() para obter o nome do dia em inglês\n",
    "df['Dia_Semana'] = df['Data'].dt.day_name()\n",
    "\n",
    "# 2. Agrupar e somar\n",
    "vendas_por_dia = df.groupby('Dia_Semana')['Total_Venda'].sum()\n",
    "\n",
    "# 3. Corrigir a ordem dos dias\n",
    "dias_ordem = ['Monday', 'Tuesday', 'Wednesday', 'Thursday', 'Friday', 'Saturday', 'Sunday']\n",
    "vendas_por_dia = vendas_por_dia.reindex(dias_ordem).dropna()\n",
    "\n",
    "print(\"Faturamento por dia da semana:\")\n",
    "print(vendas_por_dia)"
   ]
  },
  {
   "cell_type": "markdown",
   "metadata": {},
   "source": [
    "#### Visualizando a Resposta\n",
    "\n",
    "Novamente, um gráfico de barras é perfeito para comparar o desempenho de cada dia."
   ]
  },
  {
   "cell_type": "code",
   "execution_count": null,
   "metadata": {},
   "outputs": [],
   "source": [
    "plt.figure(figsize=(12, 6))\n",
    "\n",
    "sns.barplot(x=vendas_por_dia.index, y=vendas_por_dia.values, palette='plasma')\n",
    "\n",
    "plt.title('Faturamento por Dia da Semana', fontsize=16)\n",
    "plt.xlabel('Dia da Semana', fontsize=12)\n",
    "plt.ylabel('Faturamento Total (R$)', fontsize=12)\n",
    "\n",
    "plt.show()"
   ]
  },
  {
   "cell_type": "markdown",
   "metadata": {},
   "source": [
    "**Insight:** Nossas vendas se concentram no início da semana, com um pico na Terça-feira. Isso pode indicar uma oportunidade para promoções no final de semana para atrair mais clientes."
   ]
  },
  {
   "cell_type": "markdown",
   "metadata": {},
   "source": [
    "### Desafio Final! 🏆\n",
    "\n",
    "Agora é sua vez de ser o analista!\n",
    "\n",
    "**Sua missão:** O gerente quer saber qual produto vende mais em **quantidade**, não em faturamento. \n",
    "\n",
    "1.  Calcule a **quantidade total de itens vendidos por produto**.\n",
    "2.  Crie um gráfico de barras para visualizar o resultado. Não se esqueça de dar um bom título e rotular os eixos!"
   ]
  },
  {
   "cell_type": "code",
   "execution_count": null,
   "metadata": {},
   "outputs": [],
   "source": [
    "# Escreva seu código aqui!\n",
    "# Dica: A lógica é muito parecida com a da Pergunta 1, mas você vai somar a coluna 'Quantidade'.\n"
   ]
  },
  {
   "cell_type": "markdown",
   "metadata": {},
   "source": [
    "#### Solução do Desafio"
   ]
  },
  {
   "cell_type": "code",
   "execution_count": null,
   "metadata": {},
   "outputs": [],
   "source": [
    "# 1. Agrupar por 'Produto' e somar a 'Quantidade'\n",
    "quantidade_por_produto = df.groupby('Produto')['Quantidade'].sum().sort_values(ascending=False)\n",
    "\n",
    "# 2. Criar o gráfico\n",
    "plt.figure(figsize=(10, 6))\n",
    "sns.barplot(x=quantidade_por_produto.index, y=quantidade_por_produto.values, palette='cividis')\n",
    "plt.title('Quantidade de Itens Vendidos por Produto', fontsize=16)\n",
    "plt.xlabel('Produto', fontsize=12)\n",
    "plt.ylabel('Quantidade Total Vendida', fontsize=12)\n",
    "plt.show()"
   ]
  },
  {
   "cell_type": "markdown",
   "metadata": {},
   "source": [
    "## Conclusão do Minicurso\n",
    "\n",
    "**Parabéns!** 🎉\n",
    "\n",
    "Você completou a jornada completa de um analista de dados:\n",
    "1.  Recebeu dados brutos e bagunçados (`.csv`).\n",
    "2.  Explorou, limpou e preparou os dados para análise (Módulo 2).\n",
    "3.  Transformou os dados limpos em respostas para perguntas de negócio usando agregações (`.groupby()`).\n",
    "4.  Comunicou suas descobertas de forma clara e visual com gráficos (`matplotlib` e `seaborn`).\n",
    "\n",
    "Este é o ciclo fundamental da análise de dados. As ferramentas e técnicas que você aprendeu aqui são a base para resolver problemas muito mais complexos no mundo real.\n",
    "\n",
    "Lembre-se que este é apenas o começo. Continue praticando, seja curioso e explore a seção **\"Como Continuar sua Jornada em Dados\"** no `README.md` do nosso repositório para encontrar livros, plataformas e dicas para construir seu portfólio.\n",
    "\n",
    "**Obrigado por participar e boa sorte na sua jornada de dados!**"
   ]
  }
 ],
 "metadata": {
  "kernelspec": {
   "display_name": "Python 3",
   "language": "python",
   "name": "python3"
  },
  "language_info": {
   "codemirror_mode": {
    "name": "ipython",
    "version": 3
   },
   "file_extension": ".py",
   "mimetype": "text/x-python",
   "name": "python",
   "nbconvert_exporter": "python",
   "pygments_lexer": "ipython3",
   "version": "3.9.12"
  }
 },
 "nbformat": 4,
 "nbformat_minor": 4
}