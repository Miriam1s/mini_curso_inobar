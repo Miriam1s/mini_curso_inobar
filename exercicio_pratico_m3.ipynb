{
 "cells": [
  {
   "cell_type": "markdown",
   "metadata": {},
   "source": [
    "# Módulo 3: Visualização de Dados com Matplotlib e Seaborn 📊\n",
    "\n",
    "Bem-vindo(a) ao Módulo 3! Depois de calcularmos métricas financeiras importantes, chegou a hora de **visualizar** esses resultados. Um gráfico bem-feito comunica uma ideia muito mais rápido do que uma tabela de números.\n",
    "\n",
    "Hoje, usaremos as bibliotecas `Matplotlib` e `Seaborn` para criar gráficos profissionais e extrair insights ainda mais profundos dos dados da \"Sabor Artesanal Lanchonete\"."
   ]
  },
  {
   "cell_type": "markdown",
   "metadata": {},
   "source": [
    "### Passo 1: Preparando o Ambiente\n",
    "\n",
    "Como sempre, começamos importando as bibliotecas e carregando todos os nossos dados. Vamos também refazer alguns cálculos do Módulo 2 para termos todas as informações necessárias para os gráficos."
   ]
  },
  {
   "cell_type": "code",
   "execution_count": null,
   "metadata": {},
   "outputs": [],
   "source": [
    "import pandas as pd\n",
    "import matplotlib.pyplot as plt\n",
    "import seaborn as sns\n",
    "\n",
    "# Configuração para melhorar a aparência dos gráficos do Seaborn\n",
    "sns.set_theme(style=\"whitegrid\")\n",
    "\n",
    "# Carregando os dados\n",
    "base_url = 'https://raw.githubusercontent.com/Miriam1s/mini_curso_inobar/main/dados/'\n",
    "df_vendas = pd.read_csv(base_url + 'vendas.csv')\n",
    "df_produtos = pd.read_csv(base_url + 'produtos.csv')\n",
    "df_funcionarios = pd.read_csv(base_url + 'funcionarios.csv')\n",
    "df_despesas = pd.read_csv(base_url + 'despesas_operacionais.csv')\n",
    "df_avaliacoes = pd.read_csv(base_url + 'avaliacoes.csv')\n",
    "\n",
    "# --- Recriando os cálculos do Módulo 2 ---\n",
    "\n",
    "# 1. DataFrame de vendas completo com Receita, Custo e Lucro\n",
    "df_vendas_completo = pd.merge(df_vendas, df_produtos, on='ID_Produto')\n",
    "df_vendas_completo['Receita'] = df_vendas_completo['Preco_Venda_Unitario'] * df_vendas_completo['Quantidade']\n",
    "df_vendas_completo['Custo'] = df_vendas_completo['Custo_Producao_Unitario'] * df_vendas_completo['Quantidade']\n",
    "df_vendas_completo['Lucro'] = df_vendas_completo['Receita'] - df_vendas_completo['Custo']\n",
    "\n",
    "print(\"Ambiente e dados preparados com sucesso!\")"
   ]
  },
  {
   "cell_type": "markdown",
   "metadata": {},
   "source": [
    "### Gráfico 1: Análise de Performance dos Produtos\n",
    "\n",
    "Vamos criar um gráfico de barras para comparar a **Receita** e o **Lucro** total de cada produto."
   ]
  },
  {
   "cell_type": "code",
   "execution_count": null,
   "metadata": {},
   "outputs": [],
   "source": [
    "# Agrupando os dados por produto\n",
    "analise_produtos = df_vendas_completo.groupby('Nome_Produto').agg(\n",
    "    Receita_Total=('Receita', 'sum'),\n",
    "    Lucro_Total=('Lucro', 'sum')\n",
    ").sort_values(by='Receita_Total', ascending=False)\n",
    "\n",
    "# Reformatando os dados para o gráfico\n",
    "analise_produtos_melted = analise_produtos.reset_index().melt(id_vars='Nome_Produto', var_name='Metrica', value_name='Valor')\n",
    "\n",
    "# Criando o gráfico de barras agrupado\n",
    "plt.figure(figsize=(14, 8))\n",
    "sns.barplot(data=analise_produtos_melted, x='Valor', y='Nome_Produto', hue='Metrica', palette='viridis')\n",
    "\n",
    "# Adicionando títulos e rótulos\n",
    "plt.title('Receita vs. Lucro por Produto em Outubro', fontsize=16)\n",
    "plt.xlabel('Valor Total (R$)', fontsize=12)\n",
    "plt.ylabel('Produto', fontsize=12)\n",
    "plt.legend(title='Métrica')\n",
    "\n",
    "# Exibindo o gráfico\n",
    "plt.show()"
   ]
  },
  {
   "cell_type": "markdown",
   "metadata": {},
   "source": [
    "### Gráfico 2: Faturamento por Dia da Semana\n",
    "\n",
    "Um gráfico de linhas é ideal para mostrar a performance de vendas ao longo da semana."
   ]
  },
  {
   "cell_type": "code",
   "execution_count": null,
   "metadata": {},
   "outputs": [],
   "source": [
    "# Preparando os dados de dia da semana\n",
    "df_vendas_completo['Data'] = pd.to_datetime(df_vendas_completo['Data'])\n",
    "df_vendas_completo['Dia_Semana'] = df_vendas_completo['Data'].dt.day_name(locale='pt_BR.utf8')\n",
    "dias_ordem = ['segunda-feira', 'terça-feira', 'quarta-feira', 'quinta-feira', 'sexta-feira', 'sábado', 'domingo']\n",
    "receita_por_dia = df_vendas_completo.groupby('Dia_Semana')['Receita'].sum().reindex(dias_ordem).fillna(0)\n",
    "\n",
    "# Criando o gráfico de linha\n",
    "plt.figure(figsize=(12, 6))\n",
    "sns.lineplot(x=receita_por_dia.index, y=receita_por_dia.values, marker='o', color='royalblue', linewidth=2.5)\n",
    "\n",
    "# Adicionando títulos e rótulos\n",
    "plt.title('Faturamento por Dia da Semana', fontsize=16)\n",
    "plt.xlabel('Dia da Semana', fontsize=12)\n",
    "plt.ylabel('Receita Total (R$)', fontsize=12)\n",
    "plt.xticks(rotation=45)\n",
    "\n",
    "plt.show()"
   ]
  },
  {
   "cell_type": "markdown",
   "metadata": {},
   "source": [
    "### Gráfico 3: Distribuição das Formas de Pagamento\n",
    "\n",
    "Um gráfico de pizza (ou de rosca) é perfeito para mostrar a proporção de cada forma de pagamento no total de transações."
   ]
  },
  {
   "cell_type": "code",
   "execution_count": null,
   "metadata": {},
   "outputs": [],
   "source": [
    "# Contando a frequência de cada forma de pagamento\n",
    "frequencia_pagamento = df_vendas_completo['Forma_Pagamento'].value_counts()\n",
    "\n",
    "# Criando o gráfico de pizza\n",
    "plt.figure(figsize=(10, 8))\n",
    "plt.pie(frequencia_pagamento, labels=frequencia_pagamento.index, autopct='%1.1f%%', startangle=140, colors=sns.color_palette('pastel'))\n",
    "\n",
    "# Adicionando um círculo no centro para criar um gráfico de rosca (donut chart)\n",
    "my_circle=plt.Circle( (0,0), 0.7, color='white')\n",
    "p=plt.gcf()\n",
    "p.gca().add_artist(my_circle)\n",
    "\n",
    "# Adicionando título\n",
    "plt.title('Distribuição das Formas de Pagamento', fontsize=16)\n",
    "plt.ylabel('') # Remove o rótulo do eixo y\n",
    "\n",
    "plt.show()"
   ]
  },
  {
   "cell_type": "markdown",
   "metadata": {},
   "source": [
    "### Gráfico 4: Breakdown das Despesas Operacionais\n",
    "\n",
    "Vamos visualizar para onde o dinheiro está indo, separando salários das outras despesas."
   ]
  },
  {
   "cell_type": "code",
   "execution_count": null,
   "metadata": {},
   "outputs": [],
   "source": [
    "# Calculando os totais\n",
    "total_salarios = df_funcionarios['Salario_Bruto'].sum()\n",
    "total_outras_despesas = df_despesas['Valor'].sum()\n",
    "\n",
    "# Criando um DataFrame para o gráfico\n",
    "despesas_breakdown = pd.DataFrame({\n",
    "    'Tipo de Despesa': ['Salários', 'Outras Despesas'],\n",
    "    'Valor': [total_salarios, total_outras_despesas]\n",
    "})\n",
    "\n",
    "# Criando o gráfico de barras\n",
    "plt.figure(figsize=(8, 6))\n",
    "sns.barplot(data=despesas_breakdown, x='Tipo de Despesa', y='Valor', palette='Reds_r')\n",
    "\n",
    "# Adicionando títulos e rótulos\n",
    "plt.title('Breakdown das Despesas Operacionais', fontsize=16)\n",
    "plt.xlabel('Tipo de Despesa', fontsize=12)\n",
    "plt.ylabel('Valor Total (R$)', fontsize=12)\n",
    "\n",
    "plt.show()"
   ]
  },
  {
   "cell_type": "markdown",
   "metadata": {},
   "source": [
    "### Gráfico 5: Resumo Financeiro - O Caminho até o Lucro Líquido\n",
    "\n",
    "Este gráfico resume toda a nossa análise, mostrando como a receita se transforma em lucro líquido após a dedução de todos os custos e despesas."
   ]
  },
  {
   "cell_type": "code",
   "execution_count": null,
   "metadata": {},
   "outputs": [],
   "source": [
    "# Calculando os valores finais\n",
    "receita_bruta_total = df_vendas_completo['Receita'].sum()\n",
    "custo_total_produtos = df_vendas_completo['Custo'].sum()\n",
    "lucro_bruto = receita_bruta_total - custo_total_produtos\n",
    "despesas_totais = total_salarios + total_outras_despesas\n",
    "lucro_liquido = lucro_bruto - despesas_totais\n",
    "\n",
    "# Criando o DataFrame para o gráfico\n",
    "resumo_financeiro = pd.DataFrame({\n",
    "    'Métrica': ['Receita Bruta', 'Lucro Bruto', 'Lucro Líquido'],\n",
    "    'Valor': [receita_bruta_total, lucro_bruto, lucro_liquido]\n",
    "})\n",
    "\n",
    "# Criando o gráfico de barras\n",
    "plt.figure(figsize=(10, 6))\n",
    "ax = sns.barplot(data=resumo_financeiro, x='Métrica', y='Valor', palette='Greens_r')\n",
    "\n",
    "# Adicionando os valores em cima das barras\n",
    "for p in ax.patches:\n",
    "    ax.annotate(f'R$ {p.get_height():,.2f}', \n",
    "                   (p.get_x() + p.get_width() / 2., p.get_height()), \n",
    "                   ha = 'center', va = 'center', \n",
    "                   xytext = (0, 9), \n",
    "                   textcoords = 'offset points')\n",
    "\n",
    "# Adicionando títulos e rótulos\n",
    "plt.title('Resumo Financeiro do Mês', fontsize=16)\n",
    "plt.xlabel('Métrica Financeira', fontsize=12)\n",
    "plt.ylabel('Valor (R$)', fontsize=12)\n",
    "\n",
    "plt.show()"
   ]
  },
  {
   "cell_type": "markdown",
   "metadata": {},
   "source": [
    "### Gráfico 6: Satisfação dos Clientes por Produto\n",
    "\n",
    "Vamos visualizar a nota média de cada produto para entender a percepção de qualidade dos clientes."
   ]
  },
  {
   "cell_type": "code",
   "execution_count": null,
   "metadata": {},
   "outputs": [],
   "source": [
    "# Juntando avaliações e produtos\n",
    "df_avaliacoes_completo = pd.merge(df_avaliacoes, df_produtos, on='ID_Produto')\n",
    "media_avaliacoes = df_avaliacoes_completo.groupby('Nome_Produto')['Nota'].mean().sort_values(ascending=True)\n",
    "\n",
    "# Criando o gráfico de barras horizontais\n",
    "plt.figure(figsize=(12, 7))\n",
    "ax = sns.barplot(x=media_avaliacoes.values, y=media_avaliacoes.index, palette='coolwarm_r')\n",
    "\n",
    "# Adicionando os valores no final das barras\n",
    "ax.bar_label(ax.containers[0], fmt='%.2f')\n",
    "\n",
    "# Adicionando títulos e rótulos\n",
    "plt.title('Média de Avaliação por Produto', fontsize=16)\n",
    "plt.xlabel('Nota Média (de 1 a 5)', fontsize=12)\n",
    "plt.ylabel('Produto', fontsize=12)\n",
    "plt.xlim(0, 5.5) # Define o limite do eixo x para ser de 0 a 5.5 para dar espaço para o rótulo\n",
    "\n",
    "plt.show()"
   ]
  }
 ],
 "metadata": {
  "kernelspec": {
   "display_name": "Python 3",
   "language": "python",
   "name": "python3"
  },
  "language_info": {
   "name": "python"
  }
 },
 "nbformat": 4,
 "nbformat_minor": 4
}
