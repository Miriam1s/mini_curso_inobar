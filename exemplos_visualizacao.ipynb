{
 "cells": [
  {
   "cell_type": "markdown",
   "id": "e8a0e2da",
   "metadata": {},
   "source": [
    "# Exemplos de Visualização de Dados\n",
    "\n",
    "Este notebook apresenta exemplos práticos de como criar gráficos e visualizações usando os dados do minicurso. Use como referência para seus próprios projetos!"
   ]
  },
  {
   "cell_type": "code",
   "execution_count": null,
   "id": "1ce6b751",
   "metadata": {},
   "outputs": [],
   "source": [
    "# Importe as bibliotecas necessárias e carregue os dados\n",
    "import pandas as pd\n",
    "import matplotlib.pyplot as plt\n",
    "import seaborn as sns\n",
    "\n",
    "vendas = pd.read_csv('vendas_lanchonete.csv')\n",
    "vendas.head()"
   ]
  },
  {
   "cell_type": "markdown",
   "id": "9eb36190",
   "metadata": {},
   "source": [
    "## Gráfico de Barras: Produtos Mais Vendidos\n",
    "\n",
    "Visualize os produtos mais vendidos usando um gráfico de barras."
   ]
  },
  {
   "cell_type": "code",
   "execution_count": null,
   "id": "cbdfc109",
   "metadata": {},
   "outputs": [],
   "source": [
    "# Gráfico de barras dos produtos mais vendidos\n",
    "plt.figure(figsize=(10,5))\n",
    "vendas['Produto'].value_counts().plot(kind='bar', color='skyblue')\n",
    "plt.title('Produtos Mais Vendidos')\n",
    "plt.xlabel('Produto')\n",
    "plt.ylabel('Quantidade Vendida')\n",
    "plt.show()"
   ]
  },
  {
   "cell_type": "markdown",
   "id": "f0a03a3e",
   "metadata": {},
   "source": [
    "## Gráfico de Linha: Evolução das Vendas ao Longo do Tempo\n",
    "\n",
    "Veja como as vendas evoluíram ao longo do tempo com um gráfico de linha."
   ]
  },
  {
   "cell_type": "code",
   "execution_count": null,
   "id": "abfc13a2",
   "metadata": {},
   "outputs": [],
   "source": [
    "# Gráfico de linha da evolução das vendas ao longo do tempo\n",
    "vendas['Data'] = pd.to_datetime(vendas['Data'])\n",
    "vendas_por_dia = vendas.groupby('Data').sum(numeric_only=True)['Quantidade']\n",
    "plt.figure(figsize=(12,5))\n",
    "vendas_por_dia.plot()\n",
    "plt.title('Evolução das Vendas ao Longo do Tempo')\n",
    "plt.xlabel('Data')\n",
    "plt.ylabel('Quantidade Vendida')\n",
    "plt.show()"
   ]
  },
  {
   "cell_type": "markdown",
   "id": "1fc6ed71",
   "metadata": {},
   "source": [
    "## Gráfico de Pizza: Participação dos Produtos nas Vendas\n",
    "\n",
    "Veja a participação percentual de cada produto nas vendas totais."
   ]
  },
  {
   "cell_type": "code",
   "execution_count": null,
   "id": "8b6a315e",
   "metadata": {},
   "outputs": [],
   "source": [
    "# Gráfico de pizza da participação dos produtos nas vendas\n",
    "distribuicao = vendas['Produto'].value_counts()\n",
    "plt.figure(figsize=(8,8))\n",
    "distribuicao.plot(kind='pie', autopct='%1.1f%%', startangle=90, cmap='Pastel1')\n",
    "plt.title('Participação dos Produtos nas Vendas')\n",
    "plt.ylabel('')\n",
    "plt.show()"
   ]
  }
 ],
 "metadata": {
  "language_info": {
   "name": "python"
  }
 },
 "nbformat": 4,
 "nbformat_minor": 5
}
