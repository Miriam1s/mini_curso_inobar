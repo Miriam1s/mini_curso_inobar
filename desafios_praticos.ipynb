{
 "cells": [
  {
   "cell_type": "markdown",
   "id": "9e015036",
   "metadata": {},
   "source": [
    "# Desafios Práticos de Análise de Dados\n",
    "\n",
    "Este notebook reúne desafios para você praticar análise, limpeza e visualização de dados usando os arquivos do minicurso. Siga as instruções de cada seção, execute os códigos e registre suas respostas.\n",
    "\n",
    "**Dica:** Use as funções do pandas, matplotlib e seaborn para explorar os dados!"
   ]
  },
  {
   "cell_type": "code",
   "execution_count": null,
   "id": "e7d726eb",
   "metadata": {},
   "outputs": [],
   "source": [
    "# Importe as bibliotecas necessárias e carregue os dados\n",
    "import pandas as pd\n",
    "import matplotlib.pyplot as plt\n",
    "import seaborn as sns\n",
    "\n",
    "# Carregue o arquivo de vendas da lanchonete\n",
    "vendas = pd.read_csv('vendas_lanchonete.csv')\n",
    "vendas.head()"
   ]
  },
  {
   "cell_type": "markdown",
   "id": "760dfac9",
   "metadata": {},
   "source": [
    "## Desafio 1: Limpeza de Dados\n",
    "\n",
    "1. Verifique se há valores ausentes nas colunas.\n",
    "2. Substitua valores ausentes por valores adequados (ex: 0, média, ou outro critério).\n",
    "3. Corrija o tipo das colunas, se necessário (ex: datas, números).\n",
    "\n",
    "_Explique as decisões tomadas na célula abaixo._"
   ]
  },
  {
   "cell_type": "code",
   "execution_count": null,
   "id": "f84b424b",
   "metadata": {},
   "outputs": [],
   "source": [
    "# Resolva o desafio 1 aqui\n",
    "# Exemplo: vendas.isnull().sum()\n",
    "# Faça a limpeza dos dados e explique suas decisões em uma célula markdown abaixo"
   ]
  },
  {
   "cell_type": "markdown",
   "id": "11efabf4",
   "metadata": {},
   "source": [
    "## Desafio 2: Análise Exploratória\n",
    "\n",
    "1. Quais são os produtos mais vendidos?\n",
    "2. Qual o ticket médio das vendas?\n",
    "3. Existe sazonalidade nas vendas ao longo do tempo?\n",
    "\n",
    "_Responda com código e explique suas conclusões._"
   ]
  },
  {
   "cell_type": "code",
   "execution_count": null,
   "id": "7850cdc3",
   "metadata": {},
   "outputs": [],
   "source": [
    "# Resolva o desafio 2 aqui\n",
    "# Exemplo: vendas['Produto'].value_counts()\n",
    "# Faça análises e explique suas conclusões em uma célula markdown abaixo"
   ]
  },
  {
   "cell_type": "markdown",
   "id": "911c7503",
   "metadata": {},
   "source": [
    "## Desafio 3: Visualização de Dados\n",
    "\n",
    "1. Crie um gráfico de barras com os produtos mais vendidos.\n",
    "2. Faça um gráfico de linha mostrando a evolução das vendas ao longo do tempo.\n",
    "3. Explore outras visualizações que achar interessante.\n",
    "\n",
    "_Insira os gráficos e explique o que eles mostram._"
   ]
  },
  {
   "cell_type": "code",
   "execution_count": null,
   "id": "9ebf48cf",
   "metadata": {},
   "outputs": [],
   "source": [
    "# Resolva o desafio 3 aqui\n",
    "# Exemplo: plt.figure(figsize=(10,5)); vendas['Produto'].value_counts().plot(kind='bar')\n",
    "# Crie os gráficos e explique em uma célula markdown abaixo"
   ]
  },
  {
   "cell_type": "markdown",
   "id": "32a64007",
   "metadata": {},
   "source": [
    "## Desafio Bônus: Cruzamento de Dados\n",
    "\n",
    "1. Carregue o arquivo de clientes e relacione com as vendas para descobrir:\n",
    "   - Qual perfil de cliente mais compra?\n",
    "   - Existe relação entre frequência de compra e valor gasto?\n",
    "2. Apresente suas conclusões com gráficos ou tabelas."
   ]
  },
  {
   "cell_type": "code",
   "execution_count": null,
   "id": "d26643cc",
   "metadata": {},
   "outputs": [],
   "source": [
    "# Resolva o desafio bônus aqui\n",
    "# Exemplo: clientes = pd.read_csv('clientes.csv')\n",
    "# Faça o merge dos dados e explore as relações pedidas"
   ]
  }
 ],
 "metadata": {
  "language_info": {
   "name": "python"
  }
 },
 "nbformat": 4,
 "nbformat_minor": 5
}
