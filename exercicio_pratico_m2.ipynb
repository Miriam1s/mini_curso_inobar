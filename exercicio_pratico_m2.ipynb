{
 "cells": [
  {
   "cell_type": "markdown",
   "metadata": {},
   "source": [
    "# Módulo 2: Mão na Massa com Pandas 🐼\n",
    "\n",
    "Bem-vindo(a) ao nosso primeiro exercício prático! Aqui, vamos usar a biblioteca **Pandas** para carregar, explorar e limpar um conjunto de dados real da nossa lanchonete fictícia.\n",
    "\n",
    "**Objetivos:**\n",
    "1. Carregar dados de um arquivo `.csv` diretamente do GitHub.\n",
    "2. Fazer uma exploração inicial para entender a estrutura dos dados.\n",
    "3. Identificar e tratar dados ausentes (a famosa \"faxina\" dos dados)."
   ]
  },
  {
   "cell_type": "markdown",
   "metadata": {},
   "source": [
    "### Passo 1: Importando a biblioteca Pandas\n",
    "\n",
    "Tudo começa importando a ferramenta que vamos usar. Por convenção, a comunidade Python apelidou o `pandas` de `pd` para facilitar a escrita do código."
   ]
  },
  {
   "cell_type": "code",
   "execution_count": null,
   "metadata": {},
   "outputs": [],
   "source": [
    "import pandas as pd"
   ]
  },
  {
   "cell_type": "markdown",
   "metadata": {},
   "source": [
    "### Passo 2: Carregando os Dados do GitHub\n",
    "\n",
    "Vamos carregar o arquivo `vendas_lanchonete.csv` que está no nosso repositório. Para isso, usamos a URL \"raw\" do arquivo.\n",
    "\n",
    "O Pandas é inteligente o suficiente para ler um CSV diretamente de uma URL!"
   ]
  },
  {
   "cell_type": "code",
   "execution_count": null,
   "metadata": {},
   "outputs": [],
   "source": [
    "# Substitua pela URL raw do SEU repositório depois de enviar os arquivos\n",
    "url = 'https://raw.githubusercontent.com/Miriam1s/mini_curso_inobar/main/dados/vendas_lanchonete.csv'\n",
    "\n",
    "# Usamos a função read_csv() para ler os dados e criar um DataFrame\n",
    "df = pd.read_csv(url)\n"
   ]
  },
  {
   "cell_type": "markdown",
   "metadata": {},
   "source": [
    "### Passo 3: Explorando os Dados (O Primeiro Contato)\n",
    "\n",
    "Agora que os dados estão carregados no nosso DataFrame `df`, vamos usar alguns comandos para \"conversar\" com eles e entendê-los melhor."
   ]
  },
  {
   "cell_type": "code",
   "execution_count": null,
   "metadata": {},
   "outputs": [],
   "source": [
    "# O comando .head() nos mostra as 5 primeiras linhas do nosso DataFrame\n",
    "# É ótimo para ter uma \"amostra grátis\" dos dados\n",
    "df.head()"
   ]
  },
  {
   "cell_type": "code",
   "execution_count": null,
   "metadata": {},
   "outputs": [],
   "source": [
    "# O comando .info() nos dá um resumo técnico: o tipo de cada coluna e se há valores nulos\n",
    "df.info()"
   ]
  },
  {
   "cell_type": "code",
   "execution_count": null,
   "metadata": {},
   "outputs": [],
   "source": [
    "# O comando .describe() nos dá estatísticas descritivas para as colunas numéricas\n",
    "df.describe()"
   ]
  },
  {
   "cell_type": "markdown",
   "metadata": {},
   "source": [
    "### Passo 4: Limpeza e Tratamento (A Faxina dos Dados)\n",
    "\n",
    "Percebeu no `.info()` que as colunas `Valor` e `Forma_Pagamento` têm valores faltando? Dados do mundo real raramente são perfeitos. Vamos consertar isso."
   ]
  },
  {
   "cell_type": "code",
   "execution_count": null,
   "metadata": {},
   "outputs": [],
   "source": [
    "# Primeiro, vamos contar quantos valores nulos existem em cada coluna\n",
    "df.isnull().sum()"
   ]
  },
  {
   "cell_type": "markdown",
   "metadata": {},
   "source": [
    "Temos duas estratégias principais:\n",
    "1. **Remover** as linhas com dados faltantes.\n",
    "2. **Preencher** os dados faltantes com algum valor (como a média, a moda, ou um valor padrão).\n",
    "\n",
    "Vamos preencher o valor com 0 e a forma de pagamento com 'Não Informado'."
   ]
  },
  {
   "cell_type": "code",
   "execution_count": null,
   "metadata": {},
   "outputs": [],
   "source": [
    "df['Valor'].fillna(0, inplace=True)\n",
    "df['Forma_Pagamento'].fillna('Não Informado', inplace=True)\n",
    "\n",
    "# Vamos verificar se a limpeza funcionou\n",
    "df.isnull().sum()"
   ]
  },
  {
   "cell_type": "markdown",
   "metadata": {},
   "source": [
    "**Parabéns!** Você carregou, explorou e limpou seu primeiro conjunto de dados. Agora ele está pronto para análises mais profundas, que veremos no próximo módulo."
   ]
  }
 ],
 "metadata": {
  "kernelspec": {
   "display_name": "Python 3",
   "language": "python",
   "name": "python3"
  },
  "language_info": {
   "name": "python"
  }
 },
 "nbformat": 4,
 "nbformat_minor": 4
}