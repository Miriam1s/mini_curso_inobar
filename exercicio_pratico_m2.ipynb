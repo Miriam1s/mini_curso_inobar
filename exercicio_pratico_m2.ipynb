{
 "cells": [
  {
   "cell_type": "markdown",
   "metadata": {},
   "source": [
    "# Módulo 2: Análise Financeira da 'Sabor Artesanal Lanchonete' 📈\n",
    "\n",
    "Bem-vindo(a) ao nosso estudo de caso! Hoje, vamos atuar como analistas de dados para a **Sabor Artesanal Lanchonete**. Nossa missão é usar os dados da empresa para responder perguntas cruciais e descobrir a real saúde financeira do negócio.\n",
    "\n",
    "**Objetivo Final:** Calcular o **Lucro Líquido** do mês de Outubro."
   ]
  },
  {
   "cell_type": "markdown",
   "metadata": {},
   "source": [
    "### Passo 1: Importando o Pandas e Carregando os Dados\n",
    "\n",
    "Primeiro, importamos nossa principal ferramenta, o Pandas. Em seguida, vamos carregar todos os arquivos `.csv` que representam as diferentes áreas da nossa empresa."
   ]
  },
  {
   "cell_type": "code",
   "execution_count": null,
   "metadata": {},
   "outputs": [],
   "source": [
    "import pandas as pd\n",
    "\n",
    "# URL base para facilitar o acesso aos arquivos no GitHub\n",
    "base_url = 'https://raw.githubusercontent.com/Miriam1s/mini_curso_inobar/main/dados/'\n",
    "\n",
    "# Carregando cada tabela em um DataFrame separado\n",
    "df_vendas = pd.read_csv(base_url + 'vendas.csv')\n",
    "df_produtos = pd.read_csv(base_url + 'produtos.csv')\n",
    "df_funcionarios = pd.read_csv(base_url + 'funcionarios.csv')\n",
    "df_despesas = pd.read_csv(base_url + 'despesas_operacionais.csv')\n",
    "df_avaliacoes = pd.read_csv(base_url + 'avaliacoes.csv') # Carregando a nova planilha\n",
    "\n",
    "print(\"Dados de Vendas:\")\n",
    "display(df_vendas.head())\n",
    "\n",
    "print(\"\\nDados de Produtos:\")\n",
    "display(df_produtos.head())"
   ]
  },
  {
   "cell_type": "markdown",
   "metadata": {},
   "source": [
    "### Pergunta 1: Qual foi a Receita Bruta Total?\n",
    "\n",
    "Para descobrir a receita, precisamos juntar as informações de `vendas` com as de `produtos` para saber o preço de cada item vendido."
   ]
  },
  {
   "cell_type": "code",
   "execution_count": null,
   "metadata": {},
   "outputs": [],
   "source": [
    "# Juntando (merge) as tabelas de vendas e produtos usando a coluna em comum 'ID_Produto'\n",
    "df_vendas_completo = pd.merge(df_vendas, df_produtos, on='ID_Produto')\n",
    "\n",
    "# Calculando a receita para cada venda (Preço x Quantidade)\n",
    "df_vendas_completo['Receita'] = df_vendas_completo['Preco_Venda_Unitario'] * df_vendas_completo['Quantidade']\n",
    "\n",
    "# Somando a receita de todas as vendas\n",
    "receita_bruta_total = df_vendas_completo['Receita'].sum()\n",
    "\n",
    "print(f\"A Receita Bruta Total do mês foi de R$ {receita_bruta_total:.2f}\")"
   ]
  },
  {
   "cell_type": "markdown",
   "metadata": {},
   "source": [
    "### Pergunta 2: Qual foi o Custo Total dos Produtos Vendidos (CPV)?\n",
    "\n",
    "Agora, vamos calcular quanto custou para a lanchonete produzir tudo o que foi vendido."
   ]
  },
  {
   "cell_type": "code",
   "execution_count": null,
   "metadata": {},
   "outputs": [],
   "source": [
    "# Usando o mesmo DataFrame que já juntamos, calculamos o custo de cada venda\n",
    "df_vendas_completo['Custo'] = df_vendas_completo['Custo_Producao_Unitario'] * df_vendas_completo['Quantidade']\n",
    "\n",
    "# Somando o custo de todas as vendas\n",
    "custo_total_produtos = df_vendas_completo['Custo'].sum()\n",
    "\n",
    "print(f\"O Custo Total dos Produtos Vendidos (CPV) foi de R$ {custo_total_produtos:.2f}\")"
   ]
  },
  {
   "cell_type": "markdown",
   "metadata": {},
   "source": [
    "### Pergunta 3: Qual foi o Lucro Bruto?\n",
    "\n",
    "O Lucro Bruto é a diferença entre o que ganhamos (Receita) e o que gastamos para produzir (Custo)."
   ]
  },
  {
   "cell_type": "code",
   "execution_count": null,
   "metadata": {},
   "outputs": [],
   "source": [
    "lucro_bruto = receita_bruta_total - custo_total_produtos\n",
    "\n",
    "print(f\"O Lucro Bruto do mês foi de R$ {lucro_bruto:.2f}\")"
   ]
  },
  {
   "cell_type": "markdown",
   "metadata": {},
   "source": [
    "### Pergunta 4: Qual foi o Total de Despesas Operacionais?\n",
    "\n",
    "Agora, precisamos somar todas as outras despesas: salários, aluguel, luz, etc."
   ]
  },
  {
   "cell_type": "code",
   "execution_count": null,
   "metadata": {},
   "outputs": [],
   "source": [
    "# Somando a folha de pagamento\n",
    "total_salarios = df_funcionarios['Salario_Bruto'].sum()\n",
    "\n",
    "# Somando as outras despesas\n",
    "total_outras_despesas = df_despesas['Valor'].sum()\n",
    "\n",
    "despesas_totais = total_salarios + total_outras_despesas\n",
    "\n",
    "print(f\"O total de salários foi de R$ {total_salarios:.2f}\")\n",
    "print(f\"O total de outras despesas foi de R$ {total_outras_despesas:.2f}\")\n",
    "print(f\"O Total de Despesas Operacionais foi de R$ {despesas_totais:.2f}\")"
   ]
  },
  {
   "cell_type": "markdown",
   "metadata": {},
   "source": [
    "### Pergunta Final: Qual foi o Lucro Líquido do Mês?\n",
    "\n",
    "Finalmente, chegamos à resposta mais importante! O Lucro Líquido é o que realmente sobrou no caixa da empresa depois de pagar absolutamente tudo."
   ]
  },
  {
   "cell_type": "code",
   "execution_count": null,
   "metadata": {},
   "outputs": [],
   "source": [
    "# Lucro Líquido = Lucro Bruto - Despesas Totais\n",
    "lucro_liquido = lucro_bruto - despesas_totais\n",
    "\n",
    "print(f\"🎉 O Lucro Líquido da 'Sabor Artesanal Lanchonete' em Outubro foi de R$ {lucro_liquido:.2f}\")"
   ]
  },
  {
   "cell_type": "markdown",
   "metadata": {},
   "source": [
    "---"
   ]
  },
  {
   "cell_type": "markdown",
   "metadata": {},
   "source": [
    "## Análises Adicionais: Indo Além do Lucro Líquido"
   ]
  },
  {
   "cell_type": "markdown",
   "metadata": {},
   "source": [
    "### Pergunta 5: Qual é o nosso produto mais vendido e o mais lucrativo?\n",
    "\n",
    "Saber o que vende mais (popularidade) é diferente de saber o que dá mais lucro (rentabilidade). Um bom gestor precisa saber ambos. Vamos descobrir!"
   ]
  },
  {
   "cell_type": "code",
   "execution_count": null,
   "metadata": {},
   "outputs": [],
   "source": [
    "# Vamos reutilizar o DataFrame 'df_vendas_completo' que já tem todas as informações\n",
    "# Primeiro, vamos calcular o lucro por linha de venda\n",
    "df_vendas_completo['Lucro'] = df_vendas_completo['Receita'] - df_vendas_completo['Custo']\n",
    "\n",
    "# Agrupando por produto para analisar as métricas\n",
    "analise_produtos = df_vendas_completo.groupby('Nome_Produto').agg(\n",
    "    Quantidade_Vendida=('Quantidade', 'sum'),\n",
    "    Receita_Total=('Receita', 'sum'),\n",
    "    Lucro_Total=('Lucro', 'sum')\n",
    ").sort_values(by='Lucro_Total', ascending=False) # Ordenando pelo mais lucrativo\n",
    "\n",
    "print(\"--- Análise de Performance por Produto ---\")\n",
    "display(analise_produtos)\n",
    "\n",
    "produto_mais_lucrativo = analise_produtos.index[0]\n",
    "produto_mais_vendido = analise_produtos.sort_values(by='Quantidade_Vendida', ascending=False).index[0]\n",
    "\n",
    "print(f\"\\n🏆 Produto mais lucrativo: {produto_mais_lucrativo}\")\n",
    "print(f\"⭐ Produto mais vendido (em quantidade): {produto_mais_vendido}\")"
   ]
  },
  {
   "cell_type": "markdown",
   "metadata": {},
   "source": [
    "### Pergunta 6: Qual forma de pagamento é mais utilizada pelos clientes?\n",
    "\n",
    "Entender isso pode ajudar a negociar taxas melhores com operadoras de cartão ou a incentivar o uso de métodos com custo menor, como o PIX."
   ]
  },
  {
   "cell_type": "code",
   "execution_count": null,
   "metadata": {},
   "outputs": [],
   "source": [
    "# Agrupando pela forma de pagamento e contando a frequência\n",
    "frequencia_pagamento = df_vendas_completo['Forma_Pagamento'].value_counts()\n",
    "\n",
    "# Calculando o percentual\n",
    "percentual_pagamento = df_vendas_completo['Forma_Pagamento'].value_counts(normalize=True) * 100\n",
    "\n",
    "print(\"--- Análise por Forma de Pagamento ---\")\n",
    "print(\"\\nFrequência de uso:\")\n",
    "display(frequencia_pagamento)\n",
    "\n",
    "print(\"\\nPercentual de uso:\")\n",
    "display(percentual_pagamento.map('{:.2f}%'.format))"
   ]
  },
  {
   "cell_type": "markdown",
   "metadata": {},
   "source": [
    "### Pergunta 7: Qual o dia da semana com maior faturamento?\n",
    "\n",
    "Saber os dias mais fortes ajuda a planejar o estoque e a equipe."
   ]
  },
  {
   "cell_type": "code",
   "execution_count": null,
   "metadata": {},
   "outputs": [],
   "source": [
    "# Convertendo a coluna 'Data' para o formato datetime, que nos permite fazer operações com datas\n",
    "df_vendas_completo['Data'] = pd.to_datetime(df_vendas_completo['Data'])\n",
    "\n",
    "# Extraindo o número do dia da semana (0=Segunda, 6=Domingo)\n",
    "df_vendas_completo['Dia_Semana_Num'] = df_vendas_completo['Data'].dt.dayofweek\n",
    "\n",
    "# Mapeando o número para o nome do dia para ficar mais legível\n",
    "dias_map = {\n",
    "    0: 'Segunda-feira', 1: 'Terça-feira', 2: 'Quarta-feira',\n",
    "    3: 'Quinta-feira', 4: 'Sexta-feira', 5: 'Sábado', 6: 'Domingo'\n",
    "}\n",
    "df_vendas_completo['Dia_Semana'] = df_vendas_completo['Dia_Semana_Num'].map(dias_map)\n",
    "\n",
    "# Agrupando por dia da semana e somando a receita\n",
    "receita_por_dia = df_vendas_completo.groupby('Dia_Semana')['Receita'].sum()\n",
    "\n",
    "# Reordenando para a ordem correta da semana\n",
    "dias_ordem = ['Segunda-feira', 'Terça-feira', 'Quarta-feira', 'Quinta-feira', 'Sexta-feira', 'Sábado', 'Domingo']\n",
    "receita_por_dia = receita_por_dia.reindex(dias_ordem).fillna(0)\n",
    "\n",
    "print(\"--- Faturamento por Dia da Semana ---\")\n",
    "display(receita_por_dia.map('R$ {:,.2f}'.format))"
   ]
  },
  {
   "cell_type": "markdown",
   "metadata": {},
   "source": [
    "### Pergunta 8: Qual produto tem a melhor e a pior avaliação dos clientes?\n",
    "\n",
    "Cruzar dados de vendas com a satisfação do cliente é uma análise poderosa. Um produto vende muito, mas os clientes gostam dele?"
   ]
  },
  {
   "cell_type": "code",
   "execution_count": null,
   "metadata": {},
   "outputs": [],
   "source": [
    "# Juntando as avaliações com os nomes dos produtos\n",
    "df_avaliacoes_completo = pd.merge(df_avaliacoes, df_produtos, on='ID_Produto')\n",
    "\n",
    "# Calculando a média de nota por produto\n",
    "media_avaliacoes = df_avaliacoes_completo.groupby('Nome_Produto')['Nota'].mean().sort_values(ascending=False)\n",
    "\n",
    "print(\"--- Média de Avaliação por Produto (de 1 a 5) ---\")\n",
    "display(media_avaliacoes.map('{:.2f}'.format))\n",
    "\n",
    "print(f\"\\n👍 Produto com melhor avaliação: {media_avaliacoes.index[0]}\")\n",
    "print(f\"👎 Produto com pior avaliação: {media_avaliacoes.index[-1]}\")"
   ]
  },
  {
   "cell_type": "markdown",
   "metadata": {},
   "source": [
    "---"
   ]
  },
  {
   "cell_type": "markdown",
   "metadata": {},
   "source": [
    "## Análises Adicionais: Indo Além do Lucro Líquido"
   ]
  },
  {
   "cell_type": "markdown",
   "metadata": {},
   "source": [
    "### Pergunta 5: Qual é o nosso produto mais vendido e o mais lucrativo?\n",
    "\n",
    "Saber o que vende mais (popularidade) é diferente de saber o que dá mais lucro (rentabilidade). Um bom gestor precisa saber ambos. Vamos descobrir!"
   ]
  },
  {
   "cell_type": "code",
   "execution_count": null,
   "metadata": {},
   "outputs": [],
   "source": [
    "# Vamos reutilizar o DataFrame 'df_vendas_completo' que já tem todas as informações\n",
    "# Primeiro, vamos calcular o lucro por linha de venda\n",
    "df_vendas_completo['Lucro'] = df_vendas_completo['Receita'] - df_vendas_completo['Custo']\n",
    "\n",
    "# Agrupando por produto para analisar as métricas\n",
    "analise_produtos = df_vendas_completo.groupby('Nome_Produto').agg(\n",
    "    Quantidade_Vendida=('Quantidade', 'sum'),\n",
    "    Receita_Total=('Receita', 'sum'),\n",
    "    Lucro_Total=('Lucro', 'sum')\n",
    ").sort_values(by='Lucro_Total', ascending=False) # Ordenando pelo mais lucrativo\n",
    "\n",
    "print(\"--- Análise de Performance por Produto ---\")\n",
    "display(analise_produtos)\n",
    "\n",
    "produto_mais_lucrativo = analise_produtos.index[0]\n",
    "produto_mais_vendido = analise_produtos.sort_values(by='Quantidade_Vendida', ascending=False).index[0]\n",
    "\n",
    "print(f\"\\n🏆 Produto mais lucrativo: {produto_mais_lucrativo}\")\n",
    "print(f\"⭐ Produto mais vendido (em quantidade): {produto_mais_vendido}\")"
   ]
  },
  {
   "cell_type": "markdown",
   "metadata": {},
   "source": [
    "### Pergunta 6: Qual forma de pagamento é mais utilizada pelos clientes?\n",
    "\n",
    "Entender isso pode ajudar a negociar taxas melhores com operadoras de cartão ou a incentivar o uso de métodos com custo menor, como o PIX."
   ]
  },
  {
   "cell_type": "code",
   "execution_count": null,
   "metadata": {},
   "outputs": [],
   "source": [
    "# Agrupando pela forma de pagamento e contando a frequência\n",
    "frequencia_pagamento = df_vendas_completo['Forma_Pagamento'].value_counts()\n",
    "\n",
    "# Calculando o percentual\n",
    "percentual_pagamento = df_vendas_completo['Forma_Pagamento'].value_counts(normalize=True) * 100\n",
    "\n",
    "print(\"--- Análise por Forma de Pagamento ---\")\n",
    "print(\"\\nFrequência de uso:\")\n",
    "display(frequencia_pagamento)\n",
    "\n",
    "print(\"\\nPercentual de uso:\")\n",
    "display(percentual_pagamento.map('{:.2f}%'.format))"
   ]
  },
  {
   "cell_type": "markdown",
   "metadata": {},
   "source": [
    "## Conclusão\n",
    "\n",
    "Parabéns! Você partiu de várias tabelas de dados separadas e, usando o Pandas, conseguiu juntar as informações para calcular a métrica mais importante para qualquer negócio: o lucro líquido. \n",
    "\n",
    "Este é o poder da análise de dados: transformar números brutos em respostas claras e estratégicas."
   ]
  }
 ],
 "metadata": {
  "kernelspec": {
   "display_name": "Python 3",
   "language": "python",
   "name": "python3"
  },
  "language_info": {
   "name": "python"
  }
 },
 "nbformat": 4,
 "nbformat_minor": 4
}