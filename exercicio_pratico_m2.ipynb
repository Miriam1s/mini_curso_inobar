{
 "cells": [
  {
   "cell_type": "markdown",
   "metadata": {},
   "source": [
    "# Módulo 2: Análise Financeira da 'Sabor Artesanal Lanchonete' 📈\n",
    "\n",
    "Bem-vindo(a) ao nosso estudo de caso! Hoje, vamos atuar como analistas de dados para a **Sabor Artesanal Lanchonete**. Nossa missão é usar os dados da empresa para responder perguntas cruciais e descobrir a real saúde financeira do negócio.\n",
    "\n",
    "**Objetivo Final:** Calcular o **Lucro Líquido** do mês de Outubro."
   ]
  },
  {
   "cell_type": "markdown",
   "metadata": {},
   "source": [
    "### Passo 1: Importando o Pandas e Carregando os Dados\n",
    "\n",
    "Primeiro, importamos nossa principal ferramenta, o Pandas. Em seguida, vamos carregar todos os arquivos `.csv` que representam as diferentes áreas da nossa empresa."
   ]
  },
  {
   "cell_type": "code",
   "execution_count": null,
   "metadata": {},
   "outputs": [],
   "source": [
    "import pandas as pd\n",
    "\n",
    "# URL base para facilitar o acesso aos arquivos no GitHub\n",
    "base_url = 'https://raw.githubusercontent.com/Miriam1s/mini_curso_inobar/main/dados/'\n",
    "\n",
    "# Carregando cada tabela em um DataFrame separado\n",
    "df_vendas = pd.read_csv(base_url + 'vendas.csv')\n",
    "df_produtos = pd.read_csv(base_url + 'produtos.csv')\n",
    "df_funcionarios = pd.read_csv(base_url + 'funcionarios.csv')\n",
    "df_despesas = pd.read_csv(base_url + 'despesas_operacionais.csv')\n",
    "\n",
    "print(\"Dados de Vendas:\")\n",
    "display(df_vendas.head())\n",
    "\n",
    "print(\"\\nDados de Produtos:\")\n",
    "display(df_produtos.head())"
   ]
  },
  {
   "cell_type": "markdown",
   "metadata": {},
   "source": [
    "### Pergunta 1: Qual foi a Receita Bruta Total?\n",
    "\n",
    "Para descobrir a receita, precisamos juntar as informações de `vendas` com as de `produtos` para saber o preço de cada item vendido."
   ]
  },
  {
   "cell_type": "code",
   "execution_count": null,
   "metadata": {},
   "outputs": [],
   "source": [
    "# Juntando (merge) as tabelas de vendas e produtos usando a coluna em comum 'ID_Produto'\n",
    "df_vendas_completo = pd.merge(df_vendas, df_produtos, on='ID_Produto')\n",
    "\n",
    "# Calculando a receita para cada venda (Preço x Quantidade)\n",
    "df_vendas_completo['Receita'] = df_vendas_completo['Preco_Venda_Unitario'] * df_vendas_completo['Quantidade']\n",
    "\n",
    "# Somando a receita de todas as vendas\n",
    "receita_bruta_total = df_vendas_completo['Receita'].sum()\n",
    "\n",
    "print(f\"A Receita Bruta Total do mês foi de R$ {receita_bruta_total:.2f}\")"
   ]
  },
  {
   "cell_type": "markdown",
   "metadata": {},
   "source": [
    "### Pergunta 2: Qual foi o Custo Total dos Produtos Vendidos (CPV)?\n",
    "\n",
    "Agora, vamos calcular quanto custou para a lanchonete produzir tudo o que foi vendido."
   ]
  },
  {
   "cell_type": "code",
   "execution_count": null,
   "metadata": {},
   "outputs": [],
   "source": [
    "# Usando o mesmo DataFrame que já juntamos, calculamos o custo de cada venda\n",
    "df_vendas_completo['Custo'] = df_vendas_completo['Custo_Producao_Unitario'] * df_vendas_completo['Quantidade']\n",
    "\n",
    "# Somando o custo de todas as vendas\n",
    "custo_total_produtos = df_vendas_completo['Custo'].sum()\n",
    "\n",
    "print(f\"O Custo Total dos Produtos Vendidos (CPV) foi de R$ {custo_total_produtos:.2f}\")"
   ]
  },
  {
   "cell_type": "markdown",
   "metadata": {},
   "source": [
    "### Pergunta 3: Qual foi o Lucro Bruto?\n",
    "\n",
    "O Lucro Bruto é a diferença entre o que ganhamos (Receita) e o que gastamos para produzir (Custo)."
   ]
  },
  {
   "cell_type": "code",
   "execution_count": null,
   "metadata": {},
   "outputs": [],
   "source": [
    "lucro_bruto = receita_bruta_total - custo_total_produtos\n",
    "\n",
    "print(f\"O Lucro Bruto do mês foi de R$ {lucro_bruto:.2f}\")"
   ]
  },
  {
   "cell_type": "markdown",
   "metadata": {},
   "source": [
    "### Pergunta 4: Qual foi o Total de Despesas Operacionais?\n",
    "\n",
    "Agora, precisamos somar todas as outras despesas: salários, aluguel, luz, etc."
   ]
  },
  {
   "cell_type": "code",
   "execution_count": null,
   "metadata": {},
   "outputs": [],
   "source": [
    "# Somando a folha de pagamento\n",
    "total_salarios = df_funcionarios['Salario_Bruto'].sum()\n",
    "\n",
    "# Somando as outras despesas\n",
    "total_outras_despesas = df_despesas['Valor'].sum()\n",
    "\n",
    "despesas_totais = total_salarios + total_outras_despesas\n",
    "\n",
    "print(f\"O total de salários foi de R$ {total_salarios:.2f}\")\n",
    "print(f\"O total de outras despesas foi de R$ {total_outras_despesas:.2f}\")\n",
    "print(f\"O Total de Despesas Operacionais foi de R$ {despesas_totais:.2f}\")"
   ]
  },
  {
   "cell_type": "markdown",
   "metadata": {},
   "source": [
    "### Pergunta Final: Qual foi o Lucro Líquido do Mês?\n",
    "\n",
    "Finalmente, chegamos à resposta mais importante! O Lucro Líquido é o que realmente sobrou no caixa da empresa depois de pagar absolutamente tudo."
   ]
  },
  {
   "cell_type": "code",
   "execution_count": null,
   "metadata": {},
   "outputs": [],
   "source": [
    "# Lucro Líquido = Lucro Bruto - Despesas Totais\n",
    "lucro_liquido = lucro_bruto - despesas_totais\n",
    "\n",
    "print(f\"🎉 O Lucro Líquido da 'Sabor Artesanal Lanchonete' em Outubro foi de R$ {lucro_liquido:.2f}\")"
   ]
  },
  {
   "cell_type": "markdown",
   "metadata": {},
   "source": [
    "## Conclusão\n",
    "\n",
    "Parabéns! Você partiu de várias tabelas de dados separadas e, usando o Pandas, conseguiu juntar as informações para calcular a métrica mais importante para qualquer negócio: o lucro líquido. \n",
    "\n",
    "Este é o poder da análise de dados: transformar números brutos em respostas claras e estratégicas."
   ]
  }
 ],
 "metadata": {
  "kernelspec": {
   "display_name": "Python 3",
   "language": "python",
   "name": "python3"
  },
  "language_info": {
   "name": "python"
  }
 },
 "nbformat": 4,
 "nbformat_minor": 4
}