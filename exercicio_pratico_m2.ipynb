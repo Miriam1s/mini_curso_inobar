{
 "cells": [
  {
   "cell_type": "markdown",
   "metadata": {},
   "source": [
    "# Módulo 2: Mão na Massa - Análise Exploratória de Vendas 🕵️‍♀️\n",
    "\n",
    "## Cenário\n",
    "\n",
    "Parabéns! Você é o(a) novo(a) analista de dados da nossa lanchonete. Sua primeira tarefa é receber os dados de vendas, que estão em uma planilha, e fazer uma primeira exploração para entender a \"saúde\" dos nossos dados.\n",
    "\n",
    "Neste módulo, vamos aprender a:\n",
    "1.  Carregar dados de um arquivo `.csv`.\n",
    "2.  Fazer uma exploração inicial para entender a estrutura dos dados.\n",
    "3.  Identificar problemas comuns como tipos de dados incorretos e valores ausentes.\n",
    "4.  Realizar a limpeza e transformação desses dados para deixá-los prontos para análise.\n",
    "\n",
    "Vamos começar!"
   ]
  },
  {
   "cell_type": "markdown",
   "metadata": {},
   "source": [
    "### Passo 0: Configuração do Ambiente\n",
    "\n",
    "Toda análise de dados em Python começa com a importação das bibliotecas que vamos usar. A mais importante para nós é o **Pandas**. Vamos importá-la e dar o \"apelido\" de `pd`, que é uma convenção universal no mundo dos dados."
   ]
  },
  {
   "cell_type": "code",
   "execution_count": null,
   "metadata": {},
   "outputs": [],
   "source": [
    "import pandas as pd"
   ]
  },
  {
   "cell_type": "markdown",
   "metadata": {},
   "source": [
    "### Passo 1: Carregando os Dados\n",
    "\n",
    "Nossos dados de vendas estão em um arquivo chamado `vendas_lanchonete.csv`, que está no nosso repositório do GitHub.\n",
    "\n",
    "Usaremos a função `pd.read_csv()` para carregar esses dados diretamente da internet para um DataFrame do Pandas."
   ]
  },
  {
   "cell_type": "code",
   "execution_count": null,
   "metadata": {},
   "outputs": [],
   "source": [
    "# URL do arquivo CSV bruto no GitHub\n",
    "url = 'https://raw.githubusercontent.com/Miriam1s/mini_curso_inobar/main/vendas_lanchonete.csv'\n",
    "\n",
    "# Carregando os dados em um DataFrame chamado 'df'\n",
    "df = pd.read_csv(url)"
   ]
  },
  {
   "cell_type": "markdown",
   "metadata": {},
   "source": [
    "### Passo 2: A Primeira Olhada (Análise Exploratória)\n",
    "\n",
    "Ótimo! Os dados estão na memória. Mas como eles são? Antes de qualquer cálculo, precisamos \"sentir\" os dados. Vamos usar alguns comandos básicos para inspecionar nosso DataFrame."
   ]
  },
  {
   "cell_type": "markdown",
   "metadata": {},
   "source": [
    "#### 2.1 Visualizando as primeiras linhas\n",
    "\n",
    "O comando `.head()` nos mostra as 5 primeiras linhas do DataFrame. É a forma mais rápida de ter uma ideia das colunas e do tipo de dado que elas contêm."
   ]
  },
  {
   "cell_type": "code",
   "execution_count": null,
   "metadata": {},
   "outputs": [],
   "source": [
    "df.head()"
   ]
  },
  {
   "cell_type": "markdown",
   "metadata": {},
   "source": [
    "> **Para Saber Mais:** Você pode passar um número para o `.head()` para ver mais (ou menos) linhas. Tente `df.head(10)`!\n",
    "> Documentação oficial do `DataFrame.head()`"
   ]
  },
  {
   "cell_type": "markdown",
   "metadata": {},
   "source": [
    "#### 2.2 Verificando a estrutura com `.info()`\n",
    "\n",
    "O método `.info()` é um dos mais importantes. Ele nos dá um resumo técnico do DataFrame, incluindo:\n",
    "- O número de linhas e colunas.\n",
    "- O nome e a contagem de valores não-nulos de cada coluna.\n",
    "- O **tipo de dado (Dtype)** de cada coluna."
   ]
  },
  {
   "cell_type": "code",
   "execution_count": null,
   "metadata": {},
   "outputs": [],
   "source": [
    "df.info()"
   ]
  },
  {
   "cell_type": "markdown",
   "metadata": {},
   "source": [
    "#### 🕵️ **Hora da Investigação! O que encontramos com o `.info()`?**\n",
    "\n",
    "1.  **`RangeIndex: 8 entries`**: Nosso conjunto de dados tem 8 linhas.\n",
    "2.  **`Data columns (total 5 columns)`**: Temos 5 colunas.\n",
    "3.  **`Preco`**: Está como `object` (que geralmente significa texto/string). Isso é um problema! Não podemos fazer cálculos matemáticos (soma, média) com texto. O motivo é que o separador decimal está como vírgula (`,`) em vez de ponto (`.`).\n",
    "4.  **`ID_Cliente`**: Tem apenas `6 non-null` valores, mas temos 8 linhas no total. Isso significa que há **2 valores ausentes (nulos)** nesta coluna. Precisamos decidir o que fazer com eles.\n",
    "5.  **`Data`**: Também está como `object`. Para análises de tempo (vendas por dia, por mês), é muito melhor converter esta coluna para um tipo de data (`datetime`)."
   ]
  },
  {
   "cell_type": "markdown",
   "metadata": {},
   "source": [
    "### Passo 3: Limpeza e Transformação de Dados\n",
    "\n",
    "Agora que identificamos os problemas, vamos corrigi-los. Esta etapa é crucial e é onde um analista de dados passa grande parte do seu tempo."
   ]
  },
  {
   "cell_type": "markdown",
   "metadata": {},
   "source": [
    "#### 3.1 Corrigindo a coluna `Preco`\n",
    "\n",
    "Precisamos fazer duas coisas:\n",
    "1.  Substituir a vírgula (`,`) por ponto (`.`).\n",
    "2.  Converter a coluna para um tipo numérico (`float`).\n",
    "\n",
    "Podemos fazer isso em uma única linha de código, encadeando os métodos."
   ]
  },
  {
   "cell_type": "code",
   "execution_count": null,
   "metadata": {},
   "outputs": [],
   "source": [
    "# Acessamos os métodos de string com .str, substituímos a vírgula e convertemos o tipo\n",
    "df['Preco'] = df['Preco'].str.replace(',', '.').astype(float)"
   ]
  },
  {
   "cell_type": "markdown",
   "metadata": {},
   "source": [
    "> **Para Saber Mais:**\n",
    "> * `Series.str.replace()`: Usado para substituir texto em uma coluna.\n",
    "> * `Series.astype()`: Usado para converter o tipo de dado de uma coluna."
   ]
  },
  {
   "cell_type": "markdown",
   "metadata": {},
   "source": [
    "#### 3.2 Tratando valores ausentes em `ID_Cliente`\n",
    "\n",
    "Temos 2 vendas sem `ID_Cliente`. O que isso significa? Pode ser um cliente que não quis se identificar ou um erro de digitação. Para nossa análise, não podemos deixar esses valores em branco.\n",
    "\n",
    "Uma estratégia comum é preencher esses valores com um número que não exista nos IDs de clientes, como `0` ou `-1`, para representar \"Cliente Não Identificado\". Vamos usar `0`.\n",
    "\n",
    "Primeiro, vamos confirmar a quantidade de nulos:"
   ]
  },
  {
   "cell_type": "code",
   "execution_count": null,
   "metadata": {},
   "outputs": [],
   "source": [
    "df.isnull().sum()"
   ]
  },
  {
   "cell_type": "markdown",
   "metadata": {},
   "source": [
    "Agora, vamos preencher os valores nulos com `0` e também converter a coluna para inteiro, já que IDs não precisam de casas decimais."
   ]
  },
  {
   "cell_type": "code",
   "execution_count": null,
   "metadata": {},
   "outputs": [],
   "source": [
    "# Preenche os valores nulos (NaN) com 0\n",
    "df['ID_Cliente'].fillna(0, inplace=True)\n",
    "\n",
    "# Converte a coluna para o tipo inteiro\n",
    "df['ID_Cliente'] = df['ID_Cliente'].astype(int)"
   ]
  },
  {
   "cell_type": "markdown",
   "metadata": {},
   "source": [
    "> **Para Saber Mais:**\n",
    "> * `Series.fillna()`: Preenche valores ausentes.\n",
    "> * O argumento `inplace=True` modifica o DataFrame diretamente, sem a necessidade de fazer `df['ID_Cliente'] = ...`. Use com cuidado!"
   ]
  },
  {
   "cell_type": "markdown",
   "metadata": {},
   "source": [
    "#### 3.3 Convertendo a coluna `Data`\n",
    "\n",
    "Por fim, vamos converter a coluna `Data` para o formato `datetime`. Isso nos permitirá fazer filtros e agrupamentos por dia, mês ou ano de forma muito mais fácil no futuro."
   ]
  },
  {
   "cell_type": "code",
   "execution_count": null,
   "metadata": {},
   "outputs": [],
   "source": [
    "df['Data'] = pd.to_datetime(df['Data'])"
   ]
  },
  {
   "cell_type": "markdown",
   "metadata": {},
   "source": [
    "> **Para Saber Mais:**\n",
    "> * `pandas.to_datetime()` é uma função poderosa que consegue converter a maioria dos formatos de texto em datas."
   ]
  },
  {
   "cell_type": "markdown",
   "metadata": {},
   "source": [
    "### Passo 4: Verificação Final\n",
    "\n",
    "Fizemos todas as limpezas! Agora, vamos rodar o `.info()` e o `.head()` novamente para garantir que nossos dados estão perfeitos e prontos para a análise."
   ]
  },
  {
   "cell_type": "code",
   "execution_count": null,
   "metadata": {},
   "outputs": [],
   "source": [
    "df.info()"
   ]
  },
  {
   "cell_type": "markdown",
   "metadata": {},
   "source": [
    "**Sucesso!** 🎉\n",
    "\n",
    "Observe as mudanças:\n",
    "- `Data`: Agora é `datetime64[ns]`.\n",
    "- `Preco`: Agora é `float64`.\n",
    "- `ID_Cliente`: Agora é `int32` (ou `int64`) e tem 8 valores não-nulos.\n",
    "\n",
    "Nossos dados estão limpos! Vamos ver como eles ficaram:"
   ]
  },
  {
   "cell_type": "code",
   "execution_count": null,
   "metadata": {},
   "outputs": [],
   "source": [
    "df.head(10) # Mostrando todas as 8 linhas"
   ]
  },
  {
   "cell_type": "markdown",
   "metadata": {},
   "source": [
    "### Passo 5: Desafio! 🏆\n",
    "\n",
    "Agora que os dados estão limpos, você pode começar a responder perguntas.\n",
    "\n",
    "**Seu desafio:** Crie uma nova coluna chamada `Total_Venda`. Essa coluna deve ser o resultado da multiplicação da coluna `Quantidade` pela coluna `Preco`.\n",
    "\n",
    "Isso nos dirá o valor total de cada transação."
   ]
  },
  {
   "cell_type": "code",
   "execution_count": null,
   "metadata": {},
   "outputs": [],
   "source": [
    "# Escreva seu código aqui!\n",
    "# Dica: df['Nova_Coluna'] = df['Coluna1'] * df['Coluna2']\n",
    "\n"
   ]
  },
  {
   "cell_type": "markdown",
   "metadata": {},
   "source": [
    "#### Solução do Desafio"
   ]
  },
  {
   "cell_type": "code",
   "execution_count": null,
   "metadata": {},
   "outputs": [],
   "source": [
    "df['Total_Venda'] = df['Preco'] * df['Quantidade']\n",
    "df.head(10)"
   ]
  },
  {
   "cell_type": "markdown",
   "metadata": {},
   "source": [
    "## Conclusão do Módulo 2\n",
    "\n",
    "Parabéns! Você completou uma das etapas mais importantes (e muitas vezes mais difíceis) da análise de dados: a **exploração e limpeza**.\n",
    "\n",
    "Você aprendeu a:\n",
    "✅ Carregar dados com o Pandas.\n",
    "✅ Inspecionar a qualidade dos dados com `.head()` e `.info()`.\n",
    "✅ Corrigir tipos de dados (`.astype()`, `.str.replace()`).\n",
    "✅ Tratar valores ausentes (`.fillna()`).\n",
    "✅ Criar novas colunas a partir de outras existentes.\n",
    "\n",
    "Com um DataFrame limpo e estruturado, agora estamos prontos para a parte mais divertida: **gerar insights e visualizações!**\n",
    "\n",
    "Nos vemos no Módulo 3!"
   ]
  }
 ],
 "metadata": {
  "kernelspec": {
   "display_name": "Python 3",
   "language": "python",
   "name": "python3"
  },
  "language_info": {
   "codemirror_mode": {
    "name": "ipython",
    "version": 3
   },
   "file_extension": ".py",
   "mimetype": "text/x-python",
   "name": "python",
   "nbconvert_exporter": "python",
   "pygments_lexer": "ipython3",
   "version": "3.9.12"
  }
 },
 "nbformat": 4,
 "nbformat_minor": 4
}